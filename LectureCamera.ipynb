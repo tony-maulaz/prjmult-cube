{
 "cells": [
  {
   "attachments": {},
   "cell_type": "markdown",
   "metadata": {},
   "source": [
    "# Lecture Camera"
   ]
  },
  {
   "cell_type": "code",
   "execution_count": 1,
   "metadata": {},
   "outputs": [],
   "source": [
    "import numpy as np # matrices\n",
    "import cv2 # traitement d'images\n",
    "import matplotlib.pyplot as plt # affichage"
   ]
  },
  {
   "cell_type": "code",
   "execution_count": 2,
   "metadata": {},
   "outputs": [],
   "source": [
    " import cv2  #deja fait plus haut\n",
    "def list_ports():\n",
    "    \"\"\"\n",
    "    Test the ports and returns a tuple with the available ports and the ones that are working.\n",
    "    \"\"\"\n",
    "    is_working = True\n",
    "    dev_port = 0\n",
    "    working_ports = []\n",
    "    available_ports = []\n",
    "    while is_working:\n",
    "        camera = cv2.VideoCapture(dev_port)\n",
    "        if not camera.isOpened():\n",
    "            is_working = False\n",
    "            print(\"Port %s is not working.\" %dev_port)\n",
    "        else:\n",
    "            is_reading, img = camera.read()\n",
    "            w = camera.get(3)\n",
    "            h = camera.get(4)\n",
    "            if is_reading:\n",
    "                print(\"Port %s is working and reads images (%s x %s)\" %(dev_port,h,w))\n",
    "                working_ports.append(dev_port)\n",
    "            else:\n",
    "                print(\"Port %s for camera ( %s x %s) is present but does not reads.\" %(dev_port,h,w))\n",
    "                available_ports.append(dev_port)\n",
    "        dev_port +=1\n",
    "    return available_ports,working_ports"
   ]
  },
  {
   "cell_type": "code",
   "execution_count": 3,
   "metadata": {},
   "outputs": [
    {
     "name": "stdout",
     "output_type": "stream",
     "text": [
      "Port 0 is not working.\n",
      "None\n",
      "Erreur lors de la capture de l'image\n",
      "Impossible d'ouvrir la caméra\n",
      "Impossible de capturer une image\n"
     ]
    }
   ],
   "source": [
    "\n",
    "import cv2 as cv\n",
    "\n",
    "#def capture(idx):\n",
    "#    cap = cv.VideoCapture(idx)\n",
    "#    ret, img = cap.read()\n",
    "#    cap.release()\n",
    "#    return img\n",
    "#\n",
    "#img = capture(0)  \n",
    "\n",
    "\n",
    "\n",
    "\n",
    "ports_libres, ports_fonctionnels  = list_ports()\n",
    "\n",
    "\n",
    "#TEST DU PROF\n",
    "cap = cv2.VideoCapture(0) \n",
    "#print(cap)\n",
    "#print(cap.isOpened())\n",
    "\n",
    "ret, img = cap.read()  \n",
    "\n",
    "print(img)\n",
    "# Vérifier si la capture d'image a été réussie\n",
    "if ret:\n",
    "    # Afficher l'image capturée\n",
    "    cv2.imshow(\"Image capturée\", img)\n",
    "    cv2.waitKey(0)\n",
    "else:\n",
    "    print(\"Erreur lors de la capture de l'image\")\n",
    "    cap.release()\n",
    "    cv2.destroyAllWindows()\n",
    "    #gray_img = cv2.cvtColor(img, cv2.COLOR_BGR2GRAY)\n",
    "# Vérifiez que la caméra fonctionne correctement\n",
    "if not cap.isOpened():\n",
    "    print(\"Impossible d'ouvrir la caméra\")\n",
    "    # Capturez une image et vérifiez qu'elle a été correctement chargée\n",
    "    ret, img = cap.read()\n",
    "    cap.release()\n",
    "if not ret:\n",
    "    print(\"Impossible de capturer une image\")\n",
    "else:\n",
    "    #plt.figure()\n",
    "    #plt.imshow(img)\n",
    "    #plt.show()\n",
    "    gray_img = cv2.cvtColor(img, cv2.COLOR_BGR2GRAY)\n",
    "    plt.imshow(gray_img, cmap='gray')\n",
    "    plt.show()  "
   ]
  },
  {
   "cell_type": "code",
   "execution_count": 4,
   "metadata": {},
   "outputs": [
    {
     "ename": "AttributeError",
     "evalue": "'NoneType' object has no attribute 'shape'",
     "output_type": "error",
     "traceback": [
      "\u001b[1;31m---------------------------------------------------------------------------\u001b[0m",
      "\u001b[1;31mAttributeError\u001b[0m                            Traceback (most recent call last)",
      "Cell \u001b[1;32mIn[4], line 14\u001b[0m\n\u001b[0;32m      1\u001b[0m \u001b[39m#affiche l'image\u001b[39;00m\n\u001b[0;32m      2\u001b[0m \n\u001b[0;32m      3\u001b[0m \u001b[39m#gray_img = cv2.cvtColor(img, cv2.COLOR_BGR2GRAY)\u001b[39;00m\n\u001b[1;32m   (...)\u001b[0m\n\u001b[0;32m     12\u001b[0m \n\u001b[0;32m     13\u001b[0m \u001b[39m# obtenez la taille de l'image\u001b[39;00m\n\u001b[1;32m---> 14\u001b[0m height, width, channels \u001b[39m=\u001b[39m img\u001b[39m.\u001b[39;49mshape\n\u001b[0;32m     16\u001b[0m \u001b[39m# sélectionnez un point dans l'image (par exemple, au milieu)\u001b[39;00m\n\u001b[0;32m     17\u001b[0m x \u001b[39m=\u001b[39m \u001b[39m1200\u001b[39m \u001b[39m#int(width / 2)\u001b[39;00m\n",
      "\u001b[1;31mAttributeError\u001b[0m: 'NoneType' object has no attribute 'shape'"
     ]
    }
   ],
   "source": [
    "#affiche l'image\n",
    "\n",
    "#gray_img = cv2.cvtColor(img, cv2.COLOR_BGR2GRAY)\n",
    "#plt.imshow(gray_img, cmap='gray')\n",
    "#plt.show()\n",
    "\n",
    "#plt.imshow(img, cmap='gray')\n",
    "\n",
    "#plt.imshow(img.astype('float32'), cmap='gray')\n",
    "\n",
    "\n",
    "\n",
    "# obtenez la taille de l'image\n",
    "height, width, channels = img.shape\n",
    "\n",
    "# sélectionnez un point dans l'image\n",
    "x = 1200 #int(width / 2)\n",
    "y = 480 #int(height / 2)\n",
    "\n",
    "# obtenez les valeurs RGB du point sélectionné\n",
    "blue = img.item(y, x, 0)\n",
    "green = img.item(y, x, 1)\n",
    "red = img.item(y, x, 2)\n",
    "\n",
    "# affichez les valeurs RGB\n",
    "print(\"Valeurs RGB du point ({}, {}): ({}, {}, {})\".format(x, y, blue, green, red))\n"
   ]
  },
  {
   "attachments": {},
   "cell_type": "markdown",
   "metadata": {},
   "source": [
    "Capture automatique des couleurs d'une face"
   ]
  },
  {
   "cell_type": "code",
   "execution_count": null,
   "metadata": {},
   "outputs": [],
   "source": [
    "def capture_colors_face(tbl_faces): #tableau 3 dim\n",
    "    sequence = [0, 1, 2, 3, 4, 5]\n",
    "    for num in sequence:\n",
    "        # Appel de la fonction pour capturer la face (le cube ne bouge pas avant la 1ère capture)\n",
    "\n",
    "        # Appel de la fonction pour bouger le cube et mettre la face suivante en face de la caméra\n",
    "        mouve_to_capture(sequence)\n",
    "\n",
    "        return tbl_faces\n",
    "    \n",
    "def mouve_to_capture(mouve):\n",
    "    def switch_case(mouve):\n",
    "    if case == 'option1':\n",
    "        return 'Traitement pour l\\'option 1'\n",
    "    elif case == 'option2':\n",
    "        return 'Traitement pour l\\'option 2'\n",
    "    elif case == 'option3':\n",
    "        return 'Traitement pour l\\'option 3'\n",
    "    else:\n",
    "        return 'Option par défaut'\n",
    "\n",
    "    # Exemple d'utilisation\n",
    "    result = switch_case('option3')\n",
    "    print(result)  # Affiche \"Traitement pour l'option 3\"\n",
    "\n",
    "        \n",
    "    "
   ]
  },
  {
   "attachments": {},
   "cell_type": "markdown",
   "metadata": {},
   "source": [
    "CONTROLE DES MOTEURS VIA ARDUINO"
   ]
  },
  {
   "cell_type": "code",
   "execution_count": null,
   "metadata": {},
   "outputs": [],
   "source": [
    "import serial\n",
    "import time\n",
    "\n",
    "def send_command(cmd, data):\n",
    "    id = 0x55\n",
    "    checksum = id + cmd + data\n",
    "    nbr = ser.write([id,cmd,data,checksum])\n",
    "    print(\"Send command : {0} - {1} / crc : {2}\".format(cmd, nbr, checksum))\n",
    "\n",
    "    hello = ser.readline()\n",
    "    print(hello)\n",
    "\n",
    "ser = serial.Serial('COM4', 115200, timeout=0.1)\n",
    "print(ser.name)\n",
    "\n",
    "\n",
    "print(\"wait reset\")\n",
    "time.sleep(1)\n",
    "\n",
    "for i in range(1,5):\n",
    "    send_command(1,0)\n",
    "    time.sleep(1)\n",
    "\n",
    "# led off\n",
    "send_command(3,0)\n",
    "time.sleep(3)\n",
    "\n",
    "# led on \n",
    "send_command(2,0)\n",
    "time.sleep(3)\n",
    "\n",
    "# led off\n",
    "send_command(3,0)\n",
    "\n",
    "ser.close()"
   ]
  }
 ],
 "metadata": {
  "kernelspec": {
   "display_name": "Python 3.10.6 64-bit",
   "language": "python",
   "name": "python3"
  },
  "language_info": {
   "codemirror_mode": {
    "name": "ipython",
    "version": 3
   },
   "file_extension": ".py",
   "mimetype": "text/x-python",
   "name": "python",
   "nbconvert_exporter": "python",
   "pygments_lexer": "ipython3",
   "version": "3.10.6"
  },
  "orig_nbformat": 4,
  "vscode": {
   "interpreter": {
    "hash": "15e9b1f8b78a0c602063c038d738392f27f12a9d3cb9a90eb411b98071490e46"
   }
  }
 },
 "nbformat": 4,
 "nbformat_minor": 2
}
